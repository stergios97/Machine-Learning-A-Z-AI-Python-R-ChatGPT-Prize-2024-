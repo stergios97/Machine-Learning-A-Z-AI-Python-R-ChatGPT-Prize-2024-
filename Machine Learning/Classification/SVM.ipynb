{
 "cells": [
  {
   "cell_type": "code",
   "execution_count": 1,
   "metadata": {},
   "outputs": [],
   "source": [
    "from sklearn.svm import SVC\n",
    "\n",
    "# LINEAR kernel - classic SVM model\n",
    "classifier1 = SVC(kernel = 'linear', random_state = 0)\n",
    "classifier1.fit(X_train, y_train)"
   ]
  },
  {
   "cell_type": "code",
   "execution_count": null,
   "metadata": {},
   "outputs": [],
   "source": [
    "# NON-LINEAR kernel (Gaussian-rbf, Sigmoid, Polynomial)\n",
    "classifier2 = SVC(kernel = 'rbf', random_state = 0)\n",
    "classifier2.fit(X_train, y_train)"
   ]
  }
 ],
 "metadata": {
  "kernelspec": {
   "display_name": "Python 3",
   "language": "python",
   "name": "python3"
  },
  "language_info": {
   "codemirror_mode": {
    "name": "ipython",
    "version": 3
   },
   "file_extension": ".py",
   "mimetype": "text/x-python",
   "name": "python",
   "nbconvert_exporter": "python",
   "pygments_lexer": "ipython3",
   "version": "3.11.3"
  }
 },
 "nbformat": 4,
 "nbformat_minor": 2
}
