{
 "cells": [
  {
   "cell_type": "code",
   "execution_count": 1,
   "metadata": {},
   "outputs": [],
   "source": [
    "import tensorflow as tf\n",
    "from keras.preprocessing.image import ImageDataGenerator"
   ]
  },
  {
   "cell_type": "markdown",
   "metadata": {},
   "source": [
    "Data Preprocessing"
   ]
  },
  {
   "cell_type": "code",
   "execution_count": 4,
   "metadata": {},
   "outputs": [
    {
     "name": "stdout",
     "output_type": "stream",
     "text": [
      "Found 8000 images belonging to 2 classes.\n"
     ]
    }
   ],
   "source": [
    "# Preprocess the Training Set\n",
    "\n",
    "# Image Augmentation (make the model more roboust to variations)\n",
    "train_datagen = ImageDataGenerator(\n",
    "    rescale = 1./255, # this typically is feature scaling\n",
    "    shear_range = 0.2, # transformation\n",
    "    zoom_range = 0.2,  # transformation\n",
    "    horizontal_flip = True  # transformation\n",
    ")\n",
    "\n",
    "train_set = train_datagen.flow_from_directory(\n",
    "    r'C:\\Users\\Stelios_Ntanavaras\\Documents\\Python Scripts\\Machine-Learning-A-Z-AI-Python-R-ChatGPT-Prize-2024-\\Machine Learning\\Deep Learning\\dataset\\training_set',\n",
    "    target_size = (64, 64), # what size I want my pictures to be fed in my CNN\n",
    "    batch_size = 32,\n",
    "    class_mode = 'binary' # other option is categorical, but here we have cats or dogs to classify\n",
    ")"
   ]
  },
  {
   "cell_type": "code",
   "execution_count": 5,
   "metadata": {},
   "outputs": [
    {
     "name": "stdout",
     "output_type": "stream",
     "text": [
      "Found 2000 images belonging to 2 classes.\n"
     ]
    }
   ],
   "source": [
    "# Preprocess the Test set\n",
    "\n",
    "# No Data Augmentation on Test set, because we want to be as raw as possible \n",
    "# and avoid information leakage\n",
    "\n",
    "# We will only do the feature scaling part\n",
    "\n",
    "test_datagen = ImageDataGenerator(rescale = 1./255)\n",
    "test_set = test_datagen.flow_from_directory(\n",
    "    r'C:\\Users\\Stelios_Ntanavaras\\Documents\\Python Scripts\\Machine-Learning-A-Z-AI-Python-R-ChatGPT-Prize-2024-\\Machine Learning\\Deep Learning\\dataset\\test_set',\n",
    "    target_size = (64, 64),\n",
    "    batch_size = 32,\n",
    "    class_mode = 'binary'\n",
    ")"
   ]
  },
  {
   "cell_type": "markdown",
   "metadata": {},
   "source": [
    "Building the CNN model"
   ]
  },
  {
   "cell_type": "code",
   "execution_count": 6,
   "metadata": {},
   "outputs": [],
   "source": [
    "# Initialize the CNN\n",
    "cnn = tf.keras.models.Sequential()\n",
    "\n",
    "# Add the 1st Convolution layer\n",
    "cnn.add(tf.keras.layers.Conv2D(filters = 32,\n",
    "                               kernel_size = 3,\n",
    "                               activation = 'relu',\n",
    "                               input_shape = [64, 64, 3] # we are working with colored images so we have 64x64x3.\n",
    "                               # If we has greyscaled images we would have 64x64x1\n",
    "                               ))\n",
    "\n",
    "# Add Pooling and Stride operations\n",
    "cnn.add(tf.keras.layers.MaxPool2D(pool_size = 2,\n",
    "                                  strides = 2 \n",
    "))\n",
    "\n",
    "# Add the 2nd Convolution layer\n",
    "cnn.add(tf.keras.layers.Conv2D(filters = 32,\n",
    "                               kernel_size = 3,\n",
    "                               activation = 'relu',\n",
    "                               ))\n",
    "\n",
    "# Add Pooling and Stride operations\n",
    "cnn.add(tf.keras.layers.MaxPool2D(pool_size = 2,\n",
    "                                  strides = 2 \n",
    "))\n",
    "\n",
    "# Flattening\n",
    "cnn.add(tf.keras.layers.Flatten())\n",
    "\n",
    "# Full Connection\n",
    "cnn.add(tf.keras.layers.Dense(units = 128,\n",
    "                              activation = 'relu',\n",
    "                              ))\n",
    "\n",
    "# Output Layer\n",
    "cnn.add(tf.keras.layers.Dense(units = 1, # binary class (dog or cat)\n",
    "                              activation = 'sigmoid',\n",
    "                              ))\n",
    "\n"
   ]
  },
  {
   "cell_type": "markdown",
   "metadata": {},
   "source": [
    "Training the CNN model"
   ]
  },
  {
   "cell_type": "code",
   "execution_count": null,
   "metadata": {},
   "outputs": [],
   "source": [
    "cnn.compile(optimizer = 'adam',\n",
    "            loss = 'binary_crossentropy',\n",
    "            metrics = ['accuracy'])\n",
    "\n",
    "cnn.fit(x = train_set, validation_data = test_set, epochs = 25)"
   ]
  }
 ],
 "metadata": {
  "kernelspec": {
   "display_name": "Python 3",
   "language": "python",
   "name": "python3"
  },
  "language_info": {
   "codemirror_mode": {
    "name": "ipython",
    "version": 3
   },
   "file_extension": ".py",
   "mimetype": "text/x-python",
   "name": "python",
   "nbconvert_exporter": "python",
   "pygments_lexer": "ipython3",
   "version": "3.11.3"
  }
 },
 "nbformat": 4,
 "nbformat_minor": 2
}
